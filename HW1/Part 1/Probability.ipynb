{
 "cells": [
  {
   "cell_type": "markdown",
   "metadata": {
    "colab_type": "text",
    "id": "Bj0oBtFN2C0M"
   },
   "source": [
    "\n",
    "Данный ноутбук содержит в себе интуитивные и неформальные определения, нужные для понимания необходимой теории. Для более подробного изучения можно обратиться к списку литературы, представленному в конце.\n",
    "\n",
    "### 1. Системы множеств. Вероятностное пространство\n",
    "\n",
    "**Определение 1.1**\n",
    "Элементы $\\omega \\in \\Omega$ называют *элементарными исходами* некоторого эксперимента, а $\\Omega$ —  *пространством элементарных исходов*\n",
    "\n",
    "Подмножество $A \\subset Ω$ назовем **событием**, произошедшим, если эксперимент закончился одним из элементарных исходов $\\omega$, входящих в множество A. \n",
    "\n",
    "**Определение 1.2**\n",
    "Система подмножеств A, для которых выполнен $\\text{ряд условий}$ называется *сигма-алгеброй* и обозначается $\\mathscr{F}$\n",
    "\n",
    "  Первые два определения задают два параметра тройки, из которой складывается вероятностное пространство. \n",
    "\n",
    "**Определение 1.3**\n",
    "Функция $P:\\mathscr{F}\\to\\mathbb{R}$ называется *вероятностностной мерой* или *вероятностью*, если она принимает значения от нуля до единицы и $\\text{аддитивна}$ по $\\mathscr{F}$. \n",
    "\n",
    "Если хотим посчитать например вероятность события $A$, обозначим $P(A)$ и получим число от 0 до 1.\n",
    "\n",
    "Итак, теперь если рассмотреть пространство, где задана тройка, определенная выше, то получится вероятностное пространство: \n",
    "\n",
    "$(\\Omega, A, \\mathscr{F})$\n",
    "\n",
    "\n",
    "### 2. Элементарные вероятностные модели\n",
    "\n",
    "***Пример 2.1***\n",
    "\n",
    "Пусть мы бросаем симметричную монету, тогда у нас возможны два элементарных исхода:\n",
    "\n",
    ">$\\Omega = ${$\\text{орел}, \\text{решка}$}\n",
    "Теоретически их может быть больше — монета зависла в воздухе, экспериментатор отказался бросать :) Этот пример — **классическая вероятностная модель**, когда исходов конечно и они равновероятны. В этом случае достаточно разделить 1 на $\\text{мощность множества}$ элементарных исходов $|\\Omega|$, чтобы посчитать вероятность наступления события \"выпал орел\":\\$P(\\text{\"выпал орел\"})=\\frac{1}{|\\Omega|}=\\frac{1}{2}$\n",
    "\n",
    "***Пример 2.2***\n",
    "\n",
    ">При игре в дартс на Физтехе чтобы выбить максимальное число очков нужно попасть в красный круг с радиусом $r_1=2$ см. Считая, что все дротики прилетают на круглую игровую поверхность радиусом $r_2=10$ см, найти вероятность того, что дротик **не** попадет в красный круг.\\Разберемся далее с **геометрической вероятностной моделью**. В этом случае $\\Omega$ является $\\text{область евклидова пространства}$, для которой можно задать объем (или площадь в двумерном случае). Обозначим за $A$ событие \"дротик попал в красный круг\"$P(A)=\\frac{|A|}{|\\Omega|}=\\frac{S_A}{S_{\\Omega}}=\\frac{\\pi2^2}{\\pi10^2}=0.04$. Tогда вероятность того, что дротик не попал в красный круг равна $1-P(A)=1-0.04=0.96$ \n",
    "\n",
    "Кстати, давайте немного попрактикуемся в языке Python. В частности, реализуем функцию, которая принимает на вход радиусы $r_1, r_2$ и отдает вероятность того, что дротик **не** попадет в красный круг и добавим визуализацию."
   ]
  },
  {
   "cell_type": "code",
   "execution_count": 1,
   "metadata": {
    "colab": {},
    "colab_type": "code",
    "id": "3894Nza02C0O"
   },
   "outputs": [],
   "source": [
    "import matplotlib.pyplot as plt\n",
    "import numpy as np\n",
    "import scipy.stats as sts\n",
    "import matplotlib.pyplot as plt\n",
    "plt.style.use('ggplot')"
   ]
  },
  {
   "cell_type": "code",
   "execution_count": 2,
   "metadata": {
    "colab": {
     "base_uri": "https://localhost:8080/",
     "height": 354
    },
    "colab_type": "code",
    "executionInfo": {
     "elapsed": 2445,
     "status": "ok",
     "timestamp": 1580326846512,
     "user": {
      "displayName": "Надежда Николаевна Зуева",
      "photoUrl": "https://lh3.googleusercontent.com/a-/AAuE7mDuoQXgsg0Jx7iXdU4uW-yBqt0Q2h7SbmlQ99GB9Q=s64",
      "userId": "02419403902764649287"
     },
     "user_tz": -180
    },
    "id": "h_nDFiiO2C0U",
    "outputId": "f5a6b591-7335-4d18-c1b7-e4237bbbd2df"
   },
   "outputs": [
    {
     "name": "stdout",
     "output_type": "stream",
     "text": [
      "Вероятность того, что дротик не попал в красный круг равна 0.75\n"
     ]
    },
    {
     "data": {
      "image/png": "[encoded data removed]",
      "text/plain": [
       "<Figure size 360x360 with 1 Axes>"
      ]
     },
     "metadata": {},
     "output_type": "display_data"
    }
   ],
   "source": [
    "def darts(r_1=2, r_2=10):\n",
    "    \"\"\"\n",
    "        draws darts plot and calculates probability\n",
    "        from ex 2.2\n",
    "    \"\"\"\n",
    "    if r_2 < r_1:\n",
    "        return ValueError\n",
    "    \n",
    "    large_circle = plt.Circle((0, 0), r_2, color='b',alpha=0.8)\n",
    "    small_circle = plt.Circle((0, 0), r_1, color='r', alpha=0.8)\n",
    "    \n",
    "    fig, ax = plt.subplots(figsize=(5,5)) \n",
    "    ax.set_xlim(-r_2-1,r_2+1)\n",
    "    ax.set_ylim(-r_2-1,r_2+1)\n",
    "    ax.add_artist(large_circle)\n",
    "    ax.add_artist(small_circle)\n",
    "    ax.set_title('Darts')\n",
    "    result_prob = 1 - (r_1/r_2)**2\n",
    "    print(f'Вероятность того, что дротик не попал в красный круг равна {result_prob}')\n",
    "    plt.show()\n",
    "    \n",
    "    \n",
    "darts(r_1=10,r_2=20)"
   ]
  },
  {
   "cell_type": "markdown",
   "metadata": {
    "colab_type": "text",
    "id": "0OWTy7li2C0b"
   },
   "source": [
    "\n",
    "\n",
    "### 3.  Условная вероятность. Теорема Байеса\n",
    "\n",
    "    Условная вероятность возникает в том случае, если мы хотим вычислить вероятность наступления некоторого события $A$ при условии, что событие $B$ уже наступило.\n",
    "\n",
    "\n",
    "***Определение 3.1***\n",
    "Условной вероятностью $A$ при условии $B$, причем $P(B)>0$, называется $P(A|B)=\\frac{P(AB)}{P(B)}$. Здесь $P(AB)$ — вероятность одновременного наступления событий $A$ и $B$.\n",
    "\n",
    "***Пример 3.1***:\n",
    "\n",
    ">Достают две карты из колоды в 36 карт без повторения. Каков шанс, что обе карты окажутся масти треф? Рассмотрим событие **$A$=\"первое появление карты масти треф\"** и событие **$B$=\"второе появление той же масти треф\".** Заметим, что второе событие зависит от первого. $P(A) = \\frac{9}{36}=\\frac{1}{4}$ — вероятность наступления события $А$. $P(B|A) = \\frac{9-1}{36-1}=\\frac{8}{35}$ — вероятность наступления события $B$. $P(AB) = P(B)P(B|A) = \\frac{1}{4}\\frac{8}{35}=\\frac{2}{35}$ — вероятность, что будут вытащены обе карты масти треф.\n",
    "\n",
    "***Пример 3.2***\n",
    "\n",
    ">Брошено шесть шестигранных игральных костей, с какой вероятностью на всех выпала пятерка при условии, что на первых трех выпала пятерка?$A$=\"на первых трех пятерка\", $P(A)=\\frac{1}{6^3}$,$B$=\"на всех костях пятерка\", $P(B)=\\frac{1}{6^6}$,$P(B|A)=\\frac{P(AB)}{P(A)}=\\frac{6^3}{6^6}=\\frac{1}{216}=0.00463$\n",
    "\n",
    "\n",
    "***Теорема 3.1 (Формула полной вероятности)***\n",
    "\n",
    "Назовем *разбиением* систему событий {$A_1,..,A_n$} разбиением, если никакие два события из разбиения не пересекаются и покрывают все множество элементарных исходов $\\Omega$, причем $P(A_i) > 0, \\forall i \\in 0..n$. Тогда для любого события $B$ верна формула:\n",
    "\n",
    "$P(B)=\\sum_{i=1}^{n}P(B|A_i)P(A_i)$\n",
    "\n",
    "***Теорема 3.2 (формула Байеса)***\n",
    "\n",
    "$P(A|B)=\\frac{P(B|A)\\,P(A)}{P(B)}$, $P(B) > 0$\n",
    "\n",
    "Заметим, что если использовать формулу полной вероятности, то можно записать формулу Байеса в виде:\n",
    "\n",
    "$P(A_i|B)=\\frac{P(B|A_i)\\,P(A_i)}{\\sum_{i=1}^{n}P(B|A_i)P(A_i)}$\n",
    "\n",
    "\n",
    "***Пример 3.3***\n",
    "\n",
    ">Жители некоторых трех районов приходят в банк и хотят взять кредит. Жители первого района приходят с частотой 0.6, второго — 0.3, а третьего — с частотой 0.1. Вероятность того, что жителю первого района одобрят кредит равна 0.4, что жителю второго — 0.9, что третьего — 0.2. Известно, что последнему жителю одобрили кредит. С какой условной вероятностью это был житель третьего дома? \n",
    "\n",
    "\n",
    ">Введем обозначения: $B$='последнему жителю одобрили кредит', $A_1$='последний клиент был из первого района'; $A_2$='последний клиент был из второго района'; $A_3$='последний клиент был из третьего района'. Теперь разберемся, как следует записать события через вероятность:$P(A_1)=0.6$, $P(A_2)=0.3$, $P(A_3)=0.1$, $P(B|A_1)=0.4$, $P(B|A_2)=0.9$, $P(B|A_3)=0.2$.\n",
    "\n",
    ">Хотим найти $P(A_3|B)=\\frac{P(B|A_3) P(A_3)}{P(A)}=\\frac{P(B|A_3)P(A_3)}{P(B|A_1)P(A_1)+P(B|A_2)P(A_2)+P(B|A_3)P(A_3)}=\\frac{0.2\\, 0.1}{0.4\\,0.6+0.9\\,0.3+0.2\\,0.1}=0.038$\n",
    "\n",
    "P.S. зачем изучать условную вероятность? Очень просто! В машинном обучении, например, часто приходится выбрать класс, к которому отнести некоторый объект при известных условиях. Существуют $\\text{классификаторы}$ и $\\text{методы}$, основанные на теореме Байеса и названные в честь этой формулы. Классическая задача — кредитный скоринг. При наборе признаков (условий) определить, стоит ли выдавать кредит человеку."
   ]
  },
  {
   "cell_type": "markdown",
   "metadata": {
    "colab_type": "text",
    "id": "KjYQCMHa2C0d"
   },
   "source": [
    "### 4. Независимость. Распределения вероятностей\n",
    "\n",
    "**Определение 4.1**\n",
    "События $A$ и $B$ назовем **независимыми**, если выполнено утверждение: \n",
    "$P(AB)=P(A)P(B)$\n",
    "\n",
    "  На практике при подсчете вероятностей чаще всего рассматриваются события, определяемые с помощью действительных чисел.\n",
    "\n",
    "**Определение 4.2**\n",
    "Вероятностная мера $P$, заданная на $(\\mathbb{R}$,$\\mathscr{B}(\\mathbb{R}))$, называется распределением вероятностей. Здесь $\\mathscr{B}(\\mathbb{R})$ — $\\text{борелевская сигма-алгебра}$ — система из отрезков, (полу)интервалов на множестве действительных чисел $\\mathbb{R}$.\n",
    "\n",
    "\n",
    "**Определение 4.3**\n",
    "Функция $F:\\mathbb{R}\\to[0,1]\\, F(x)=P((-\\infty,x])$ называется функцией распределения, соответствующей распределению вероятностей $P$.\n",
    "\n",
    "  Проще говоря, F описывает вероятность того, что в результате эксперимента будет получено действительное число, меньшее либо равное, чем x. \n",
    "    \n",
    "Заметим, что если вероятность сосредоточена не более чем в счетном числе точек, то такое распределение — **дисректное**. В случае, если вероятность распределена по более чем счетному множеству точек, то такое распределение считается **абсолютно непрерывным**. Заметим также, что не все существующие распределения делятся на эти два класса. Но мы будем рассматривать только дискретный и абсолютно \n",
    "непрерывный случаи. Введем фукнцию, характеризующую \"сосредоточенность\" точек, содержащих вероятность.\n",
    "\n",
    "**Определение 4.4**\n",
    "Функция $p(t), t \\in \\mathbb{R}$, такая, что $\\int_\\mathbb{R}p(t)dt=1$ и $F(x)=\\int_{-\\infty}^{x}p(t)dt$, называется *плотностью абсолютно непрерывного распределения* $P$, соответсвующего функции распределения $F$.\n",
    "\n",
    "**Пояснение**: первое условие — сумма (в дисректном случае) либо интеграл (в абсолютно непрерывном случае) по всем $t$ дает единицу, то есть функция плотности содержит всю информацию о том, как, где и сколько вероятности содержится по всем возможным исходам. Второе условие эквивалентно тому, что если функция распределения показывает вероятность не превзойти значение $x$ в результате эксперимента, то плотность  — что получится ровно значение $x$. \n",
    "\n",
    "Для работы с распределениями отлично подходят пакеты `scipy.stats` и `numpy`.\n",
    "\n",
    "Существует набор заранее известных распределений, для которых уже вычислены функции и известно, при каких обстоятельствах их стоит применять. Рассмотрим некоторые из них, а именно:\n",
    "\n",
    "\n",
    "Начнем с важнейших примеров **дискретных** распределений. \n",
    "\n",
    "\n",
    "Важнейшие дискретные распределения:\n",
    "\n",
    "Назовем носителем распределения множество, на котором оно определяется. Заметим, что у распределений есть параметры, которые характеризуют конкретный случай. Будем считать, что $k \\in \\mathbb{N}$\n",
    "\n",
    "\n",
    "|Распределение|Обозначение|Носитель|Параметр|Плотность| Смысл |\n",
    "|---------|---------|---------|---------|---------|---------|\n",
    "|Равномерное дискретное|$R${$1,...,N$}|{$1,..,N$} |$N \\in \\mathbb{N}$| $p(k)=\\frac{1}{N}$|Бросок $N$-гранного кубика |\n",
    "|Распределение Бернулли| $Bern(p)$ | $p\\in${$0,1$} |{$0,1$}|$p(0)=1-p; p(1) = p$ |Один бросок монеты |\n",
    "|Распределение Пуассона| $Pois(\\lambda)$ | $\\mathbb{Z}_+$ | $\\lambda$ |$p(k)=\\frac{\\lambda^k}{k!}e^{-\\lambda}$ |Число событий, произошедших за фиксированное время|\n",
    "\n",
    "Как видно из таблицы, каждое распределение описывает результаты эксперимента по определенному закону. И если мы видим, что эксперимент похож по сути на смысл одного из распределений, то подобрав нужные параметры, можем описать так эксперимент.\n"
   ]
  },
  {
   "cell_type": "markdown",
   "metadata": {
    "colab_type": "text",
    "id": "WYRypnm-2C0f"
   },
   "source": [
    "#### Равномерное дискретное распределение\n",
    "\n",
    "Функция `randint` из `numpy` равновероятно возвращает одно из значений из множества {$1,...,N$} для каждой из n_points точек. Вы можете поменять параметры, передаваемые в функцию и посмотреть, изменится ли график."
   ]
  },
  {
   "cell_type": "code",
   "execution_count": 3,
   "metadata": {
    "colab": {},
    "colab_type": "code",
    "id": "14KBmxWs2C0h"
   },
   "outputs": [],
   "source": [
    "def plot_uniform(N=10000, n_points=1000):\n",
    "    \"\"\"\n",
    "        отрисовывает распределение случайных точек по равномерному закону.\n",
    "        N: параметр распределения\n",
    "        n_points: число точек распределения\n",
    "    \"\"\"\n",
    "    dst = np.random.uniform(0,N,n_points)\n",
    "    plt.hist(dst,density=True,histtype='stepfilled')\n",
    "    plt.title('Uniform')"
   ]
  },
  {
   "cell_type": "code",
   "execution_count": 4,
   "metadata": {
    "colab": {
     "base_uri": "https://localhost:8080/",
     "height": 282
    },
    "colab_type": "code",
    "executionInfo": {
     "elapsed": 2429,
     "status": "ok",
     "timestamp": 1580326846514,
     "user": {
      "displayName": "Надежда Николаевна Зуева",
      "photoUrl": "https://lh3.googleusercontent.com/a-/AAuE7mDuoQXgsg0Jx7iXdU4uW-yBqt0Q2h7SbmlQ99GB9Q=s64",
      "userId": "02419403902764649287"
     },
     "user_tz": -180
    },
    "id": "7zk8cK5J2C0l",
    "outputId": "45622866-3e3c-4318-ebfa-18b0b48b795a"
   },
   "outputs": [
    {
     "data": {
      "image/png": "[encoded data removed]",
      "text/plain": [
       "<Figure size 432x288 with 1 Axes>"
      ]
     },
     "metadata": {},
     "output_type": "display_data"
    }
   ],
   "source": [
    "plot_uniform(10, 1000)"
   ]
  },
  {
   "cell_type": "markdown",
   "metadata": {
    "colab_type": "text",
    "id": "5zNlGl2k2C0q"
   },
   "source": [
    "Что можно заметить при уменьшении числа точек? А при увеличении $N$? Попробуйте различные параметры чтобы убедиться, что максимально равномерное распределение возникает при малых значениях $N$ и больших $npoints$. Действительно, чем меньше число доступных принимаемых значений и чем больше экспериментов проведено, тем меньше **разброс** или **дисперсия**, как мы будем называть ее далее. Функция же, которая отвечает за \"проведение\" эксперимента называется **случайной величиной**. Но формально поговорим об этом в следующем параграфе, а теперь вернемся к рассмотрению дискретных распределений. На очереди — Бернулли."
   ]
  },
  {
   "cell_type": "markdown",
   "metadata": {
    "colab_type": "text",
    "id": "-KJDNZmo2C0s"
   },
   "source": [
    "#### Распределение Бернулли\n",
    "\n",
    "заметим, что здесь используем функцию `numpy.random.binomail`, которая соответсвует биномиальному распределению, по сути представляющему бросок монеты $n$ раз, таким образом, положив $n=1$, получим Бернулли"
   ]
  },
  {
   "cell_type": "code",
   "execution_count": 5,
   "metadata": {
    "colab": {},
    "colab_type": "code",
    "id": "KnTa6CI-2C0t"
   },
   "outputs": [],
   "source": [
    "def plot_bern(p=0.5, n_points=1000):\n",
    "    \"\"\"\n",
    "        отрисовывает распределение случайных точек по закону Бернулли.\n",
    "        p: параметр распределения, равный вероятности выпадения орла \n",
    "    \"\"\"\n",
    "    dst = np.random.binomial(1,p,n_points)\n",
    "    plt.hist(dst,density=True,histtype='stepfilled')\n",
    "    plt.title('Bernoulli')"
   ]
  },
  {
   "cell_type": "code",
   "execution_count": 6,
   "metadata": {
    "colab": {
     "base_uri": "https://localhost:8080/",
     "height": 282
    },
    "colab_type": "code",
    "executionInfo": {
     "elapsed": 2408,
     "status": "ok",
     "timestamp": 1580326846515,
     "user": {
      "displayName": "Надежда Николаевна Зуева",
      "photoUrl": "https://lh3.googleusercontent.com/a-/AAuE7mDuoQXgsg0Jx7iXdU4uW-yBqt0Q2h7SbmlQ99GB9Q=s64",
      "userId": "02419403902764649287"
     },
     "user_tz": -180
    },
    "id": "Zp5fiDzX2C0x",
    "outputId": "f10e03f7-c358-4b2d-d024-5b5906ba544c"
   },
   "outputs": [
    {
     "data": {
      "image/png": "[encoded data removed]",
      "text/plain": [
       "<Figure size 432x288 with 1 Axes>"
      ]
     },
     "metadata": {},
     "output_type": "display_data"
    }
   ],
   "source": [
    "plot_bern(0.2)"
   ]
  },
  {
   "cell_type": "markdown",
   "metadata": {
    "colab_type": "text",
    "id": "zzFrJnb22C01"
   },
   "source": [
    "У нас всего два возможных значения — ноль и единица (орел и решка). И в зависимости от \"симметричности\" монеты один столбец будет длиннее другого"
   ]
  },
  {
   "cell_type": "markdown",
   "metadata": {
    "colab_type": "text",
    "id": "ZbLsS2pc2C02"
   },
   "source": [
    "#### Распределение Пуассона"
   ]
  },
  {
   "cell_type": "code",
   "execution_count": 7,
   "metadata": {
    "colab": {},
    "colab_type": "code",
    "id": "Zimzh17Z2C02"
   },
   "outputs": [],
   "source": [
    "def plot_poisson(lmb=5, n_points=1000):\n",
    "    \"\"\"\n",
    "        Отрисовывает распределение случайных точек по закону Бернулли.\n",
    "        lambda: параметр распределения,характеризующий среднее количество\n",
    "        событий за фиксированный промежуток времени\n",
    "    \"\"\"\n",
    "    dst = np.random.poisson(lmb,n_points)\n",
    "    plt.hist(dst,density=True,histtype='stepfilled')\n",
    "    plt.title('Poisson')"
   ]
  },
  {
   "cell_type": "code",
   "execution_count": 8,
   "metadata": {
    "colab": {
     "base_uri": "https://localhost:8080/",
     "height": 282
    },
    "colab_type": "code",
    "executionInfo": {
     "elapsed": 2770,
     "status": "ok",
     "timestamp": 1580326846899,
     "user": {
      "displayName": "Надежда Николаевна Зуева",
      "photoUrl": "https://lh3.googleusercontent.com/a-/AAuE7mDuoQXgsg0Jx7iXdU4uW-yBqt0Q2h7SbmlQ99GB9Q=s64",
      "userId": "02419403902764649287"
     },
     "user_tz": -180
    },
    "id": "_rEfhFwJ2C05",
    "outputId": "ef6aaf5f-2791-47e6-aa66-817b5e6076c4"
   },
   "outputs": [
    {
     "data": {
      "image/png": "[encoded data removed]",
      "text/plain": [
       "<Figure size 432x288 with 1 Axes>"
      ]
     },
     "metadata": {},
     "output_type": "display_data"
    }
   ],
   "source": [
    "plot_poisson(2,50000)"
   ]
  },
  {
   "cell_type": "markdown",
   "metadata": {
    "colab_type": "text",
    "id": "fge5iqBd2C07"
   },
   "source": [
    "\"Исследования о вероятности приговоров в уголовных и гражданских делах\" — статья, в которой было введено данное распределение. Другие примеры других ситуаций, которые можно смоделировать, применив это распределение: поломки оборудования, длительность исполнения ремонтных работ стабильно работающим сотрудником, ошибка печати, рост колонии бактерий в чашке Петри, дефекты в длинной ленте или цепи, импульсы счетчика радиоактивного излучения, количество забиваемых футбольной командой голов и многое другое"
   ]
  },
  {
   "cell_type": "markdown",
   "metadata": {
    "colab_type": "text",
    "id": "vNc1MxYn2C08"
   },
   "source": [
    "Перейдем к рассмотрению другого класса распределений — абсолютно непрерывных. \n",
    "\n",
    "примем $a,b, \\sigma^2 \\in \\mathbb{R}, a<b$, \n",
    "\n",
    "$I(pred)$ — индикатор предиката $pred$, равный 1, если условие $pred$ выполнено и нулю иначе.\n",
    "\n",
    "|Распределение|Обозначение|Носитель|Параметр|Плотность| Смысл |\n",
    "|---------|---------|---------|---------|---------|---------|\n",
    "|Равномерное распределение| $R[a,b]$ | $a,b$ | $[a,b]$ | $p(x)=\\frac{1}{b-a}I(x\\in[a,b])$ |Случайная точка из отрезка|\n",
    "|Нормальное распределение| $\\mathscr{N}(a\\,\\sigma^2)$ | $\\mathbb{R}$ | $a\\, \\sigma^2$ | $p(x)=\\frac{1}{\\sqrt{2\\pi\\sigma^2}}e^{\\frac{-(x-a)^2}{2\\sigma^2}}$ |Часто встречается в природе. Широко применяется в статистике, машинном обучении. Хорошо моделирует, например, погрешности измерений. Может использоваться также для приближения других распределений|\n",
    "|Экспоненциальное распределение |$\\lambda>0$| $Exp(\\lambda)$ | $\\mathbb{R}_+$ | $p(x)=\\lambda e^{-\\lambda}I(x>0)$ |Время между двумя последовательными свершениями одного и того же события.|\n"
   ]
  },
  {
   "cell_type": "markdown",
   "metadata": {
    "colab_type": "text",
    "id": "C_taaJxk2C09"
   },
   "source": [
    "#### Равномерное непрерывное распределение"
   ]
  },
  {
   "cell_type": "code",
   "execution_count": 9,
   "metadata": {
    "colab": {},
    "colab_type": "code",
    "id": "pBp1LE7_2C0-"
   },
   "outputs": [],
   "source": [
    "def plot_uniform(a=0,b=1,n_points=1000):\n",
    "    \"\"\"\n",
    "        отрисовывает распределение случайных точек по равномерному непрерывному закону.\n",
    "        a,b: начало и конец отрезка\n",
    "    \"\"\"\n",
    "    r = sts.uniform.rvs(loc=a, scale=b-a, size=n_points)\n",
    "    plt.hist(r, density=True, histtype='stepfilled')\n",
    "    plt.title('Uniform')"
   ]
  },
  {
   "cell_type": "code",
   "execution_count": 10,
   "metadata": {
    "colab": {
     "base_uri": "https://localhost:8080/",
     "height": 282
    },
    "colab_type": "code",
    "executionInfo": {
     "elapsed": 2749,
     "status": "ok",
     "timestamp": 1580326846901,
     "user": {
      "displayName": "Надежда Николаевна Зуева",
      "photoUrl": "https://lh3.googleusercontent.com/a-/AAuE7mDuoQXgsg0Jx7iXdU4uW-yBqt0Q2h7SbmlQ99GB9Q=s64",
      "userId": "02419403902764649287"
     },
     "user_tz": -180
    },
    "id": "hL20dnnd2C1B",
    "outputId": "c7b3110c-ae6d-4b7b-a5c4-966564ef893e"
   },
   "outputs": [
    {
     "data": {
      "image/png": "[encoded data removed]",
      "text/plain": [
       "<Figure size 432x288 with 1 Axes>"
      ]
     },
     "metadata": {},
     "output_type": "display_data"
    }
   ],
   "source": [
    "plot_uniform(2,10,10000)"
   ]
  },
  {
   "cell_type": "markdown",
   "metadata": {
    "colab_type": "text",
    "id": "37hLDbAT2C1D"
   },
   "source": [
    "#### Нормальное распределение"
   ]
  },
  {
   "cell_type": "markdown",
   "metadata": {
    "colab_type": "text",
    "id": "0VVLg0fz2C1D"
   },
   "source": [
    "Его также называют **гауссовым**. С этим распределением связана важнейшая Центральная предельная теорема (ЦПТ), которая гласит, что если величина является суммой многих случайных слабо взаимозависимых величин, каждая из которых вносит малый вклад относительно общей суммы, то центрированное и нормированное распределение такой величины при достаточно большом числе слагаемых стремится к нормальному распределению. "
   ]
  },
  {
   "cell_type": "code",
   "execution_count": 11,
   "metadata": {
    "colab": {},
    "colab_type": "code",
    "id": "DuhLexXO2C1E"
   },
   "outputs": [],
   "source": [
    "def plot_norm(a=0,sigma=1,n_points=10000):\n",
    "    \"\"\"\n",
    "        отрисовывает распределение случайных точек по равномерному нормальному закону.\n",
    "        a — параметр, характеризующий среднее значение\n",
    "        sigma — параметр, характеризующий разброс параметров\n",
    "    \"\"\"\n",
    "    r = sts.norm.rvs(loc=a,scale=sigma, size=n_points)\n",
    "    plt.hist(r, density=True, histtype='stepfilled',alpha=0.8)\n",
    "    plt.title('Normal')"
   ]
  },
  {
   "cell_type": "code",
   "execution_count": 12,
   "metadata": {
    "colab": {
     "base_uri": "https://localhost:8080/",
     "height": 282
    },
    "colab_type": "code",
    "executionInfo": {
     "elapsed": 813,
     "status": "ok",
     "timestamp": 1580326897474,
     "user": {
      "displayName": "Надежда Николаевна Зуева",
      "photoUrl": "https://lh3.googleusercontent.com/a-/AAuE7mDuoQXgsg0Jx7iXdU4uW-yBqt0Q2h7SbmlQ99GB9Q=s64",
      "userId": "02419403902764649287"
     },
     "user_tz": -180
    },
    "id": "_65KxfuX2C1G",
    "outputId": "fc44a590-6679-4128-c139-35bf14b6584d"
   },
   "outputs": [
    {
     "data": {
      "image/png": "[encoded data removed]",
      "text/plain": [
       "<Figure size 432x288 with 1 Axes>"
      ]
     },
     "metadata": {},
     "output_type": "display_data"
    }
   ],
   "source": [
    "plot_norm(0,1)"
   ]
  },
  {
   "cell_type": "markdown",
   "metadata": {
    "colab_type": "text",
    "id": "FuuCmuxA2C1I"
   },
   "source": [
    "#### Экспоненциальное распределение\n",
    "\n",
    "Интересно, что это распределение обладает свойством отсутствия памяти. Поясним на примере. В качестве эксперимента будем засекать время ожидания пассажиром автобуса. Пусть автобусы приходят на остановку случайно, но с некоторой фиксированной средней интенсивностью. Тогда количество времени, уже затраченное пассажиром на ожидание автобуса, не влияет на время, которое ему ещё придётся прождать."
   ]
  },
  {
   "cell_type": "code",
   "execution_count": 13,
   "metadata": {
    "colab": {},
    "colab_type": "code",
    "id": "BzKA8tkX2C1I"
   },
   "outputs": [],
   "source": [
    "def plot_exp(lmbd=0,n_points=10000):\n",
    "    \"\"\"\n",
    "        отрисовывает распределение случайных точек по равномерному непрерывному закону.\n",
    "        lambda — параметр, характеризующей среднее возрастание \n",
    "        интенсивности процесса за единицу времени\n",
    "    \"\"\"\n",
    "    r = sts.expon.rvs(lmbd, size=n_points)\n",
    "    plt.hist(r, density=True, histtype='stepfilled')\n",
    "    plt.title('Exponential')"
   ]
  },
  {
   "cell_type": "code",
   "execution_count": 14,
   "metadata": {
    "colab": {
     "base_uri": "https://localhost:8080/",
     "height": 282
    },
    "colab_type": "code",
    "executionInfo": {
     "elapsed": 3779,
     "status": "ok",
     "timestamp": 1580326847969,
     "user": {
      "displayName": "Надежда Николаевна Зуева",
      "photoUrl": "https://lh3.googleusercontent.com/a-/AAuE7mDuoQXgsg0Jx7iXdU4uW-yBqt0Q2h7SbmlQ99GB9Q=s64",
      "userId": "02419403902764649287"
     },
     "user_tz": -180
    },
    "id": "NCE-oVEJ2C1L",
    "outputId": "cf3a726e-21d4-4d19-cfdc-d3b40de030d2"
   },
   "outputs": [
    {
     "data": {
      "image/png": "[encoded data removed]",
      "text/plain": [
       "<Figure size 432x288 with 1 Axes>"
      ]
     },
     "metadata": {},
     "output_type": "display_data"
    }
   ],
   "source": [
    "plot_exp()"
   ]
  },
  {
   "cell_type": "markdown",
   "metadata": {
    "colab_type": "text",
    "id": "WPMH63cx2C1M"
   },
   "source": [
    "### 5.Статистики распределений. Среднее и дисперсия."
   ]
  },
  {
   "cell_type": "markdown",
   "metadata": {
    "colab_type": "text",
    "id": "zDatxlwO2C1N"
   },
   "source": [
    "В предыдущем разделе мы упомянули среднее значение и разброс. Немного формализуем эти понятия. За более формальными определениями можно обратиться к https://istina.msu.ru/download/9446616/1dRPIT:oTvN8KzzYSrqoE4ZWdTY9JMa8lY/\n",
    "\n",
    "**Определение 5.1**\n",
    " Математическое ожидание (взвешенное по вероятностям возможных значений) значение. Наиболее *ожидаемый* исход\n",
    " \n",
    " **Определение 5.2**\n",
    "Дисперсия — мера разброса результатов эксперимента относительно её математического ожидания\n",
    "\n",
    "**Определение 5.3**\n",
    "Случайная величина — функция, отвечающая за проведение эксперимента, то есть отображающая значения из носителя в множество допустимых ответов. Это очень важное определение для понимания математического аппарата и доказательства теорем в теории вероятностей, с формальным определением которого можно ознакомиться по ссылке выше.\n",
    "\n",
    "Рассмотрим гистограмму нормального распределения"
   ]
  },
  {
   "cell_type": "code",
   "execution_count": 15,
   "metadata": {
    "colab": {
     "base_uri": "https://localhost:8080/",
     "height": 282
    },
    "colab_type": "code",
    "executionInfo": {
     "elapsed": 3762,
     "status": "ok",
     "timestamp": 1580326847969,
     "user": {
      "displayName": "Надежда Николаевна Зуева",
      "photoUrl": "https://lh3.googleusercontent.com/a-/AAuE7mDuoQXgsg0Jx7iXdU4uW-yBqt0Q2h7SbmlQ99GB9Q=s64",
      "userId": "02419403902764649287"
     },
     "user_tz": -180
    },
    "id": "xuCfTCD92C1N",
    "outputId": "01bf75dc-6f82-425d-c0fa-dba523b38425"
   },
   "outputs": [
    {
     "data": {
      "image/png": "[encoded data removed]",
      "text/plain": [
       "<Figure size 432x288 with 1 Axes>"
      ]
     },
     "metadata": {},
     "output_type": "display_data"
    }
   ],
   "source": [
    "for i in range(0,10,2):\n",
    "    plot_norm(a=i)"
   ]
  },
  {
   "cell_type": "markdown",
   "metadata": {
    "colab_type": "text",
    "id": "Q9JOxndX2C1P"
   },
   "source": [
    "Видим — меняется наиболее вероятный исход (самый высокий столбец гистограммы) при изменении параметра $a$, который как мы видим является как раз математическим ожиданием! \n",
    "\n",
    "Проверим, что будет, если менять дисперсию."
   ]
  },
  {
   "cell_type": "code",
   "execution_count": 16,
   "metadata": {
    "colab": {
     "base_uri": "https://localhost:8080/",
     "height": 282
    },
    "colab_type": "code",
    "executionInfo": {
     "elapsed": 3748,
     "status": "ok",
     "timestamp": 1580326847970,
     "user": {
      "displayName": "Надежда Николаевна Зуева",
      "photoUrl": "https://lh3.googleusercontent.com/a-/AAuE7mDuoQXgsg0Jx7iXdU4uW-yBqt0Q2h7SbmlQ99GB9Q=s64",
      "userId": "02419403902764649287"
     },
     "user_tz": -180
    },
    "id": "fpqqxWPU2C1P",
    "outputId": "30b04d44-5130-4b13-a18d-adf285a9b1ac"
   },
   "outputs": [
    {
     "data": {
      "image/png": "[encoded data removed]",
      "text/plain": [
       "<Figure size 432x288 with 1 Axes>"
      ]
     },
     "metadata": {},
     "output_type": "display_data"
    }
   ],
   "source": [
    "for i in range(2,7):\n",
    "    plot_norm(sigma=i)"
   ]
  },
  {
   "cell_type": "markdown",
   "metadata": {
    "colab_type": "text",
    "id": "ILXdLei92C1R"
   },
   "source": [
    "Дисперсия отвечает за \"сгруппированность\" данных. Чем шире гистограмма, тем больше дисперсия. То есть распределение больше \"размазано\" по различным значениям. \n",
    "\n",
    "Литература:\n",
    "1. краткое пособие: https://istina.msu.ru/download/9446616/1dRPIT:oTvN8KzzYSrqoE4ZWdTY9JMa8lY/\n",
    "2. подробная практическая статистика: https://alleng.org/d/math-stud/math-st889.htm\n",
    "3. классический курс по ТВ: http://www.booksshare.net/books/physics/shiryaev-an/1957/files/veroyatnost1957.pdf\n"
   ]
  }
 ],
 "metadata": {
  "colab": {
   "name": "Probability_likbez.ipynb",
   "provenance": []
  },
  "kernelspec": {
   "display_name": "Python 3",
   "language": "python",
   "name": "python3"
  },
  "language_info": {
   "codemirror_mode": {
    "name": "ipython",
    "version": 3
   },
   "file_extension": ".py",
   "mimetype": "text/x-python",
   "name": "python",
   "nbconvert_exporter": "python",
   "pygments_lexer": "ipython3",
   "version": "3.8.5"
  }
 },
 "nbformat": 4,
 "nbformat_minor": 1
}
