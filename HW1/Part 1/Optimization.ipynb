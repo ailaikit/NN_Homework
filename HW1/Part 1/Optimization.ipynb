{
 "cells": [
  {
   "cell_type": "markdown",
   "metadata": {
    "colab_type": "text",
    "id": "AF4MsnKVg--3"
   },
   "source": [
    "# Оптимизация функции одной переменной"
   ]
  },
  {
   "cell_type": "markdown",
   "metadata": {
    "colab_type": "text",
    "id": "smbncR4CvDmh"
   },
   "source": [
    "## Постановка задачи"
   ]
  },
  {
   "cell_type": "markdown",
   "metadata": {
    "colab_type": "text",
    "id": "Oy646ASQhIB4"
   },
   "source": [
    "Одна из самых важных задач, связанных с функциями -- это задача **поиска минимума функции** или **задача оптимизации функции**.\n",
    "\n",
    "Эта задача решается нейронными сетями при обучении. Да, по сути, обучение нейронной сети -- это оптимизация одной большой и очень сложной функции с тысячами или даже миллионами аргументов.\n",
    "\n",
    "Чуть подробнее: <br>\n",
    "При обучении нейронной сети мы хотим измерять, насколько хорошо сеть справляется с поставленной задачей. Для этого вводится функция потерь -- такая функция, которая в качестве аргументов принимает правильные ответы и ответы нейронной сети, и выдает некоторое число -- ошибку. Понятно, что мы хотим, чтобы ошибка сети была минимальной. <br>\n",
    "То есть, ставится задача **минимизации функции потерь**.\n",
    "Мы хотим подобрать такие аргументы (параметры) нейронной сети, чтобы получить минимум функции потерь.\n",
    "\n",
    "Сейчас мы научимся минимизировать функции."
   ]
  },
  {
   "cell_type": "markdown",
   "metadata": {
    "colab_type": "text",
    "id": "GZQbYWqLvFpp"
   },
   "source": [
    "## Аналитический алгоритм поиска минимума функции одной переменной"
   ]
  },
  {
   "cell_type": "markdown",
   "metadata": {
    "colab_type": "text",
    "id": "y8UPfz74pD_r"
   },
   "source": [
    "Вспомним, что в ноутбуке по производным мы выяснили, что знак производной функции в точке показывает характер функции в этой точке -- убывает она, возрастает или имеет локальный экстремум. Давайте сформулируем **необходимое и достаточное условие существования экстремума функции $F$ в точке $x$**\n",
    "\n",
    "1. (необходимое условие) Если функция $F$ имеет экстремум в точке $x$, то либо $F$ не имеет производной в точке $x$, либо $F'(x) = 0$\n",
    "\n",
    "2. (достаточное условие) Если функция $F$ имеет производную в точке $x$ и $F'(x) = 0$, то в точке $x$ функция $F$ имеет экстремум.\n",
    "\n",
    "Иными словами, чтобы точка $x$ была точкой экстремума функции $F$, *необходимо*, чтобы $F$ в точке $x$ либо не имела производной, либо эта производная равнялась нулю. И чтобы чтобы точка $x$ была точкой экстремума функции $F$, *достаточно*, чтобы $F'(x)$ существовало и $F'(x) = 0$"
   ]
  },
  {
   "cell_type": "markdown",
   "metadata": {
    "colab_type": "text",
    "id": "VOUz6DMrrLYp"
   },
   "source": [
    "Мы далее в курсе будем рассматривать только дифференцируемые на всей области определения функции (т.е. имеющие производную на всей области определения). Для таких функций критерий экстремума в точке выглядит проще:\n",
    "\n",
    "1. Если $F'(x) = 0$, то в точке $x$ у функции $F$ экстремум.\n",
    "2. Если у функции $F$ экстремум в точке $x$, то $F'(x) = 0$\n",
    "\n",
    " "
   ]
  },
  {
   "cell_type": "markdown",
   "metadata": {
    "colab_type": "text",
    "id": "O-HGvEOPsKCs"
   },
   "source": [
    "Заметим, что мы говорили сейчас об *экстремумах*, а не *точках минимума*. Если в точке $x$ производная $F'(x) = 0$, то это может быть как точкой минимума, так и точкой максимума. \n",
    "\n",
    "Чтобы убедиться, что точка является точкой минимума, надо взять вторую производную $F''(x)$. Если $F'(x) = 0$ и $F''(x) > 0$, то $x$ -- точка минимума, если же $F'(x) = 0$ и $F''(x) < 0$, то $x$ -- точка максимума."
   ]
  },
  {
   "cell_type": "markdown",
   "metadata": {
    "colab_type": "text",
    "id": "WSi46EGmstok"
   },
   "source": [
    "Итак, **алгоритм нахождения точек локальных минимумов функции F(x)**:\n",
    "1. найти корни уравнения $F'(x) = 0$ (найти те точки $x$, в которых производная равна 0)\n",
    "2. Для всех корней уравнения $x$ вычислить вторую производную $F''(x)$. Если она больше нуля, то это точка минимума.\n",
    "\n",
    "Этот алгоритм **аналитический** -- он основан на решении уравнений."
   ]
  },
  {
   "cell_type": "markdown",
   "metadata": {
    "colab_type": "text",
    "id": "MZPJXsSotP6P"
   },
   "source": [
    "> Пример #1 <br>\n",
    "<br>\n",
    "$$F = 4x^2 - 3x + 5$$\n",
    "Найдем точки минимума этой функции:<br>\n",
    "1. Находим производную: $F'(x) = 8x - 3$\n",
    "2. Решаем уравнение $F'(x) = 8x - 3 = 0$, $x = \\frac{3}{8}$ -- получили единственный корень.\n",
    "3. Находим вторую производную функции $F$ в точке $\\frac{3}{8}$: $F''(x) = (8x - 3)' = 8 > 0$, поэтому полученная точка экстремума $x = \\frac{3}{8}$ -- точка минимума.<br>\n",
    "<br>\n",
    "Итого мы нашли единственную точку минимума $x = \\frac{3}{8}$<br>\n",
    "<br>\n",
    "Мы можем убедиться в правильности решения, посмотрев на график функции $F$:\n"
   ]
  },
  {
   "cell_type": "code",
   "execution_count": 1,
   "metadata": {
    "colab": {
     "base_uri": "https://localhost:8080/",
     "height": 279
    },
    "colab_type": "code",
    "id": "dVWJsK2uhC4y",
    "outputId": "766cf33e-87ce-45fb-ccb6-1d99d1710908"
   },
   "outputs": [
    {
     "data": {
      "image/png": "[encoded data removed]",
      "text/plain": [
       "<Figure size 432x288 with 1 Axes>"
      ]
     },
     "metadata": {
      "needs_background": "light"
     },
     "output_type": "display_data"
    }
   ],
   "source": [
    "import numpy as np\n",
    "import matplotlib.pyplot as plt\n",
    "\n",
    "def F(x):\n",
    "    return 4*x**2 - 3*x + 5\n",
    "\n",
    "def plot_function(f):\n",
    "    x = np.linspace(-1, 2, 100)\n",
    "    y = list(map(f, x))\n",
    "\n",
    "    plt.plot(x, y)\n",
    "    plt.ylabel(\"Y\")\n",
    "    plt.xlabel(\"X\")\n",
    "    \n",
    "plot_function(F)"
   ]
  },
  {
   "cell_type": "markdown",
   "metadata": {
    "colab_type": "text",
    "id": "vOTdgpIiu3FF"
   },
   "source": [
    "> Похоже на правду =)"
   ]
  },
  {
   "cell_type": "markdown",
   "metadata": {
    "colab_type": "text",
    "id": "ECa-6dCOwePp"
   },
   "source": [
    "Этот алгоритм хорошо и позволяет находить точные значения координаты точки минимума функции. Но он не всегда применим.\n",
    "\n",
    "Рассмотрим функцию, знакомую нам по ноутбуку по производным:<br>\n",
    "$F(x) = x^4 + 5x^3 - 10x$. Выглядит она так:"
   ]
  },
  {
   "cell_type": "code",
   "execution_count": 2,
   "metadata": {
    "colab": {
     "base_uri": "https://localhost:8080/",
     "height": 296
    },
    "colab_type": "code",
    "id": "Y3t8nfaYvcjx",
    "outputId": "a6d5510f-7e83-4551-eb3f-1d7e023f7236"
   },
   "outputs": [
    {
     "data": {
      "text/plain": [
       "<matplotlib.collections.PathCollection at 0x1f884dcd8e0>"
      ]
     },
     "execution_count": 2,
     "metadata": {},
     "output_type": "execute_result"
    },
    {
     "data": {
      "image/png": "[encoded data removed]",
      "text/plain": [
       "<Figure size 432x288 with 1 Axes>"
      ]
     },
     "metadata": {
      "needs_background": "light"
     },
     "output_type": "display_data"
    }
   ],
   "source": [
    "def F(x):\n",
    "    return x**4 + 5*x**3 - 10*x\n",
    "\n",
    "x = np.linspace(-5, 2, 100)\n",
    "y = list(map(F, x))\n",
    "\n",
    "plt.plot(x, y)\n",
    "plt.ylabel(\"Y\")\n",
    "plt.xlabel(\"X\")\n",
    "plt.scatter([-3.5518, -0.9439, 0.7457], [F(-3.5518), F(-0.9439), F(0.7457)])"
   ]
  },
  {
   "cell_type": "markdown",
   "metadata": {
    "colab_type": "text",
    "id": "GXqAXzmlwxgE"
   },
   "source": [
    "Мы помним, что у нее есть две точки минимума и одна точка максимума. Давайте допустим, что мы хотим найти координаты точек минимума, используя наш алгоритм. Нам нужно было бы вычислить производную <br>\n",
    "$F'(x) = 4x^3 + 15x^2 -10$ <br>\n",
    "и решить уравнение <br>\n",
    "$4x^3 + 15x^2 -10 = 0$ <br>\n",
    "Но это уравнение третьей степени, которое сложно (если не невозможно) решить аналитически. Значит, найти точки минимума нашим алгоритмом не получится. "
   ]
  },
  {
   "cell_type": "markdown",
   "metadata": {
    "colab_type": "text",
    "id": "YytARbPIxlEh"
   },
   "source": [
    "Очевидно, бывают еще более сложные функции, что уж говорить о функциях многих переменных. Поэтому рассмотрим другой алгоритм поиска минимума функций:"
   ]
  },
  {
   "cell_type": "markdown",
   "metadata": {
    "colab_type": "text",
    "id": "6JTs_CLJxyzZ"
   },
   "source": [
    "## Алгоритм градиентного спуска: идея"
   ]
  },
  {
   "cell_type": "markdown",
   "metadata": {
    "colab_type": "text",
    "id": "xKuuz-XO_iek"
   },
   "source": [
    "С этого момента и везде далее мы будем считать, что все рассматриваемые функции дифференцируемы на всей области определения."
   ]
  },
  {
   "cell_type": "markdown",
   "metadata": {
    "colab_type": "text",
    "id": "WcAtHF-ZyCQm"
   },
   "source": [
    "Посмотрим на график этой коварной функции и на случайную точку $(x, y)$ на нем:"
   ]
  },
  {
   "cell_type": "code",
   "execution_count": 3,
   "metadata": {
    "colab": {
     "base_uri": "https://localhost:8080/",
     "height": 279
    },
    "colab_type": "code",
    "id": "_SiGJ1apxd_V",
    "outputId": "c7f57e74-6ae5-468e-d906-c2ce6c1fadfe"
   },
   "outputs": [
    {
     "data": {
      "image/png": "[encoded data removed]",
      "text/plain": [
       "<Figure size 432x288 with 1 Axes>"
      ]
     },
     "metadata": {
      "needs_background": "light"
     },
     "output_type": "display_data"
    }
   ],
   "source": [
    "def F(x):\n",
    "    return x**4 + 5*x**3 - 10*x\n",
    "\n",
    "x = np.linspace(-5, 2, 100)\n",
    "y = list(map(F, x))\n",
    "\n",
    "plt.plot(x, y)\n",
    "plt.ylabel(\"Y\")\n",
    "plt.xlabel(\"X\")\n",
    "plt.scatter([-2], [F(-2)])\n",
    "plt.show()"
   ]
  },
  {
   "cell_type": "markdown",
   "metadata": {
    "colab_type": "text",
    "id": "URH7uH9PIp8u"
   },
   "source": [
    "Давайте представим, что мы не видим графика этой функции, но очень хотим найти точку минимума функции.\n",
    "\n",
    "Из ноутбука по производным мы помним, что знак производной функции в точке показывает, возрастает функция в этой точке или убывает (ну или имеет экстремум). Как нетрудно догадаться, производная в точке $(x, y)$ на нашем графике будет $< 0$, функция в этой точке возрастает. <br>\n",
    "Это значит, что **какая-то точка локального минимума функции находится правее точки $x$**. <br>\n",
    "(\"правее\" значит, что минимум функции достигается при значении аргумента $< x$). <br>\n",
    "Это отличное наблюдение! Это значит, что если мы уменьшим $x$ на некоторую величину $\\Delta x$, то мы можем стать ближе к точке минимума!"
   ]
  },
  {
   "cell_type": "markdown",
   "metadata": {
    "colab_type": "text",
    "id": "sppzD64HIrBt"
   },
   "source": [
    "Тогда алгоритм поиска точки минимума выглядит так:\n",
    "\n",
    "1. Берем случайную точку $x$ функции $F$\n",
    "2. Вычисляем производную $F'(x)$\n",
    "3. Если $F'(x) > 0$, уменьшаем $x$, если $F'(x) < 0$, увеличиваем $x$\n",
    "4. Повторяем 3 \n",
    "\n",
    "То есть, мы берем случайную точку и начинаем движение от нее к точке минимума, каждый шаг алгоритма вычисляя производную функции в точке, в которой сейчас находимся и сдвигая эту точку в направлении минимума.<br>\n",
    "Вычислять производную на каждом шаге нужно, потому что мы в какой-то момент можем \"перепрыгнуть\" через точку минимума, тогда производная поменяет знак и мы поймем, что нужно двигаться обратно.\n",
    "\n",
    "В идеале это \"движение\" должно выглядеть так:"
   ]
  },
  {
   "cell_type": "markdown",
   "metadata": {
    "colab_type": "text",
    "id": "LcTbeu4sKGsf"
   },
   "source": [
    "<a href=\"https://ibb.co/gWHbctj\"><img src=\"https://i.ibb.co/vdgCMLw/2020-01-30-19-01-37.jpg\" width=\"400\" height=\"300\" alt=\"2020-01-30-19-01-37\" border=\"0\"></a>"
   ]
  },
  {
   "cell_type": "markdown",
   "metadata": {
    "colab_type": "text",
    "id": "KTrwC5lG_cN6"
   },
   "source": [
    "\n",
    "\n",
    "Остается два вопроса: на какую величину $\\Delta x$ уменьшать и когда останавливать алгоритм.\n",
    "\n",
    "Давайте попробуем выбрать $\\Delta x$. Это нетривиально, ведь мы не видим графика функции и не знаем, насколько далеко точка минимума. А численное значение производной нам показывает только факт убывания функции и скорость убывания (уго наклона графика), но не расстояние до точки минимума.\n",
    "\n",
    "Другими словами, минимум может быть в точке $x-0.2$, а может быть в точке $x - 200$. \n",
    "\n",
    "Если мы возьмем слишком большую величину, то можем просто перескочить через точку минимума. Примером такой величины может быть $\\Delta x = 2.5$:"
   ]
  },
  {
   "cell_type": "code",
   "execution_count": 4,
   "metadata": {
    "colab": {
     "base_uri": "https://localhost:8080/",
     "height": 279
    },
    "colab_type": "code",
    "id": "QaS2QFV89lEY",
    "outputId": "9d1fdce2-170c-4d8d-ca42-ba8ef82a6b04"
   },
   "outputs": [
    {
     "data": {
      "image/png": "[encoded data removed]",
      "text/plain": [
       "<Figure size 432x288 with 1 Axes>"
      ]
     },
     "metadata": {
      "needs_background": "light"
     },
     "output_type": "display_data"
    }
   ],
   "source": [
    "def F(x):\n",
    "    return x**4 + 5*x**3 - 10*x\n",
    "\n",
    "x = np.linspace(-5, 2, 100)\n",
    "y = list(map(F, x))\n",
    "\n",
    "plt.plot(x, y)\n",
    "plt.ylabel(\"Y\")\n",
    "plt.xlabel(\"X\")\n",
    "plt.scatter([-4.5], [F(-4.5)])\n",
    "plt.show()"
   ]
  },
  {
   "cell_type": "markdown",
   "metadata": {
    "colab_type": "text",
    "id": "jwHOjaK6ExA2"
   },
   "source": [
    "Итак, нужно брать $\\Delta x$ довольно маленьким. \n",
    "\n",
    "Если мы зафиксируем некоторую величину $\\Delta x$ и на каждом шаге алгоритма будем сдвигать $x$ на одинаковую величину $\\Delta x$ в направлении минимума, то это может занять очень много времени (например, когда точка минимума в точке $x = 1$, а мы стоим в точке $x = 1001$ и $\\Delta x = 1$, нам потребуется 1000 шагов алгоритма, чтобы дойти до минимума). Плюс, если мы стоим в точке $x = 1.5$, то, сдвинувшись на $\\Delta x = 1$ по направлению к точке минимума мы попадем в точку $x = 0.5$, далее опять сдвинувшись на $\\Delta x = 1$ по направлению к точке минимума мы попадем в точку $x = 1.5$ и будем так ходить туда-сюда, не приближаясь к точке минимума $x = 1$ ближе. "
   ]
  },
  {
   "cell_type": "markdown",
   "metadata": {
    "colab_type": "text",
    "id": "IIiJeLP3FZG0"
   },
   "source": [
    "Давайте еще раз внимательно посмотрим на график функции (выше) и увидим, что чем ближе точка к минимуму, тем плавнее график. <br>\n",
    "Более формально, что чем ближе точка к минимуму, тем меньше скорость убывания/возрастания функции, а значит, тем меньше модуль значения производной.\n",
    "\n",
    "Мы можем это использовать. Давайте зафиксируем некоторое маленькое число $\\epsilon$ и каждый шаг алгоритма будем двигать $x$ по направлению к минимуму на шаг $\\epsilon * |F'(x)|$. Тогда пока наша точка будет далеко от минимума, $|F'(x)|$ будет довольно большим и мы будем двигаться большими шагами, а по мере приближения к точке минимума $|F'(x)|$ будет уменьшаться, и наш шаг тоже будет уменьшаться. Так мы менее вероятно перескочим через точку минимума и подойдем к ней ближе в итоге."
   ]
  },
  {
   "cell_type": "markdown",
   "metadata": {
    "colab_type": "text",
    "id": "Us3jbxBPQYBx"
   },
   "source": [
    "Ответ на второй вопрос -- когда останавливать алгоритм поиска минимума -- может быть разный. Действуя таким образом, ровно в точку минимума мы почти никогда не попадем, придется остановиться в какой-то точке возле минимума. Но для применений этого алгоритма нахождение точки около минимума вполне хватает. Чаще всего алгоритм останавливается после прохождения определенного количества шагов и/или достижения определенной близости к точке минимума. Близость, опять же, можно измерять значением производной в точке. Чем ближе, тем модуль производной меньше.\n",
    "\n",
    "Итак, теперь мы можем сформулировать итоговый алгоритм:"
   ]
  },
  {
   "cell_type": "markdown",
   "metadata": {
    "colab_type": "text",
    "id": "pFOSF91fQFwy"
   },
   "source": [
    "## Алгоритм градиентного спуска \n",
    "\n"
   ]
  },
  {
   "cell_type": "markdown",
   "metadata": {
    "colab_type": "text",
    "id": "gkXSHxXrUHYx"
   },
   "source": [
    "1. Берем случайную точку $x$ функции $F$, фиксируем $\\epsilon$ (например, $\\epsilon = 0.001$)\n",
    "2. Вычисляем производную $F'(x)$\n",
    "3. Изменяем $x$ : $x = x - \\epsilon F'(x)$ \n",
    "4. Повторяем 3, пока не пройдет определенное количество шагов и/или мы не станем достаточно близко к точке минимума.\n",
    "\n",
    "Этот алгоритм называется **алгоритм градиентного спуска**. \"Градиентного\" -- потому что мы \"спускаемся\" к точке минимума, вычисляя производную (градиент) функции на каждом шаге.\n",
    "\n",
    "Выглядит это как-то так:"
   ]
  },
  {
   "cell_type": "markdown",
   "metadata": {
    "colab_type": "text",
    "id": "9LzMHhcZSFo3"
   },
   "source": [
    "![alt text](https://rezaborhani.github.io/mlr/mlrefined_images/gifs/unnormalized_gradient_descent.gif)"
   ]
  },
  {
   "cell_type": "markdown",
   "metadata": {
    "colab_type": "text",
    "id": "s9up3-ZTRDCS"
   },
   "source": [
    "Заметим, что, начиная движение из одной точки, мы можем найти только одну точку локального минимума. Если хочется найти несколько точек, можно запустить алгоритм градиентного спуска несколько раз из разных случайно выбранных точек. Но гарантии, что мы найдем все точки минимума или что найдем точку глобального минимума, нет."
   ]
  },
  {
   "cell_type": "markdown",
   "metadata": {
    "colab_type": "text",
    "id": "983ypt_BTzvW"
   },
   "source": [
    "Существует множество молификаций/оптимизаций алгоритма градиентного спуска, но о них мы говорить не будем. Центральная идея у них одна и та же -- спуск к точке минимума, используя градиент функции."
   ]
  },
  {
   "cell_type": "markdown",
   "metadata": {
    "colab_type": "text",
    "id": "txUBjU1AULu2"
   },
   "source": [
    "# Оптимизация функции многих переменной"
   ]
  },
  {
   "cell_type": "markdown",
   "metadata": {
    "colab_type": "text",
    "id": "IDs00e4nUPVD"
   },
   "source": [
    "Давайте перейдем к функциям многих переменных. \n",
    "\n",
    "Идея нахождения минимума функции многих переменных такая же, как и для функции одной переменной. \n",
    "\n",
    "Давайте рассмотрим функцию $F(x_1, x_2, \\dots, x_n)$ $n$ переменных. <br>\n",
    "Алгоритм выглядит так:\n",
    "\n",
    "1. Берем случайную точку $x = (x_1, x_2, \\dots, x_n)$ функции $F$, фиксируем $\\epsilon$ (например, $\\epsilon = 0.001$)\n",
    "2. Вычисляем частные производные $F'(x)$ по всем $n$ аргументам функции в точке $x = (x_1, x_2, \\dots, x_n)$, получаем градиент <br>\n",
    "$\\triangledown F = (F'_{x_1}(x_1, x_2, \\dots, x_n), F'_{x_2}(x_1, x_2, \\dots, x_n), \\dots, F'_{x_n}(x_1, x_2, \\dots, x_n))$\n",
    "3. Изменяем  <br>\n",
    "$x_1 : x_1 = x_1 - \\epsilon F'_{x_1}(x_1, x_2, \\dots, x_n)$ <br>\n",
    "$x_2 : x_2 = x_2 - \\epsilon F'_{x_2}(x_1, x_2, \\dots, x_n)$ <br>\n",
    "$\\dots$ <br>\n",
    "$x_n : x_n = x_n - \\epsilon F'_{x_n}(x_1, x_2, \\dots, x_n)$ <br>\n",
    "или, в векторной записи, <br>\n",
    "$x = x - \\epsilon \\triangledown F(x)$\n",
    "4. Повторяем 3, пока не пройдет определенное количество шагов и/или мы не станем достаточно близко к точке минимума по каждой из координат"
   ]
  },
  {
   "cell_type": "markdown",
   "metadata": {
    "colab_type": "text",
    "id": "fD0EtDDlXXnM"
   },
   "source": [
    "То есть мы вычисляем частные производные по каждому аргументу функции, понимаем для каждого аргумента функции, возрастает или убывает функция по этому аргументу и меняем значения всех $n$ аргументов в ту сторону, где функция убывает."
   ]
  },
  {
   "cell_type": "markdown",
   "metadata": {
    "colab_type": "text",
    "id": "1T2C2T90ZUwr"
   },
   "source": [
    "В случае функции двух переменных алгоритм может выглядеть так:"
   ]
  },
  {
   "cell_type": "markdown",
   "metadata": {
    "colab_type": "text",
    "id": "HprDVYasZVfc"
   },
   "source": [
    "![alt text](https://thumbs.gfycat.com/AngryInconsequentialDiplodocus-size_restricted.gif)"
   ]
  }
 ],
 "metadata": {
  "colab": {
   "name": "Optimization.ipynb",
   "provenance": []
  },
  "kernelspec": {
   "display_name": "Python 3",
   "language": "python",
   "name": "python3"
  },
  "language_info": {
   "codemirror_mode": {
    "name": "ipython",
    "version": 3
   },
   "file_extension": ".py",
   "mimetype": "text/x-python",
   "name": "python",
   "nbconvert_exporter": "python",
   "pygments_lexer": "ipython3",
   "version": "3.8.5"
  }
 },
 "nbformat": 4,
 "nbformat_minor": 1
}
